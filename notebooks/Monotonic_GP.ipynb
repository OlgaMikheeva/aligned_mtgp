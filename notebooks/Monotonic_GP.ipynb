{
 "cells": [
  {
   "cell_type": "markdown",
   "metadata": {
    "collapsed": true,
    "pycharm": {
     "name": "#%% md\n"
    }
   },
   "source": [
    "# Monotonic GP"
   ]
  },
  {
   "cell_type": "markdown",
   "source": [
    "This is an example of fitting a monotonic ODE-based GP (using pathwise sampling)"
   ],
   "metadata": {
    "collapsed": false,
    "pycharm": {
     "name": "#%% md\n"
    }
   }
  },
  {
   "cell_type": "code",
   "execution_count": 1,
   "metadata": {
    "pycharm": {
     "name": "#%%\n"
    }
   },
   "outputs": [],
   "source": [
    "import time\n",
    "\n",
    "import gpflow\n",
    "import numpy as np\n",
    "import tensorflow as tf\n",
    "from gpflow.config import default_float as floatx\n",
    "import matplotlib.pyplot as plt\n",
    "from tqdm import tqdm\n",
    "\n",
    "from amtgp.monotonic_gp import PathwiseMonotonicSVGP"
   ]
  },
  {
   "cell_type": "markdown",
   "source": [
    "Generate data"
   ],
   "metadata": {
    "collapsed": false,
    "pycharm": {
     "name": "#%% md\n"
    }
   }
  },
  {
   "cell_type": "code",
   "execution_count": 2,
   "outputs": [
    {
     "name": "stderr",
     "output_type": "stream",
     "text": [
      "2022-02-16 12:11:43.160780: I tensorflow/core/platform/cpu_feature_guard.cc:151] This TensorFlow binary is optimized with oneAPI Deep Neural Network Library (oneDNN) to use the following CPU instructions in performance-critical operations:  AVX2 FMA\n",
      "To enable them in other operations, rebuild TensorFlow with the appropriate compiler flags.\n"
     ]
    }
   ],
   "source": [
    "xmin = 0.1  # range over which we observe\n",
    "xmax = 0.9  # the behavior of a function $f$\n",
    "X = tf.convert_to_tensor(np.linspace(xmin, xmax, 100)[:, None])\n",
    "\n",
    "noise = tf.constant(0.0001, dtype=floatx())\n",
    "def f(x):\n",
    "    return 0.075 * tf.sin(x*10) + x\n",
    "F = f(X)\n",
    "y = F + tf.random.normal(stddev=tf.sqrt(noise), shape=tf.shape(F), dtype=floatx())\n",
    "\n",
    "# remove portion of the data\n",
    "s = 35\n",
    "e = 65\n",
    "X_obs = tf.concat([X[:s], X[e:]], axis=0)\n",
    "y_obs = tf.concat([y[:s], y[e:]], axis=0)"
   ],
   "metadata": {
    "collapsed": false,
    "pycharm": {
     "name": "#%%\n"
    }
   }
  },
  {
   "cell_type": "markdown",
   "source": [
    "Plot the training data"
   ],
   "metadata": {
    "collapsed": false,
    "pycharm": {
     "name": "#%% md\n"
    }
   }
  },
  {
   "cell_type": "code",
   "execution_count": 3,
   "outputs": [
    {
     "data": {
      "text/plain": "[<matplotlib.lines.Line2D at 0x7ff4587a5e20>]"
     },
     "execution_count": 3,
     "metadata": {},
     "output_type": "execute_result"
    },
    {
     "data": {
      "text/plain": "<Figure size 504x432 with 1 Axes>",
      "image/png": "[encoded data removed]"
     },
     "metadata": {
      "needs_background": "light"
     },
     "output_type": "display_data"
    }
   ],
   "source": [
    "fig, ax = plt.subplots(1, 1, figsize=(7, 6))\n",
    "\n",
    "ax.set_ylim([0, 1])\n",
    "ax.set_xlim([0, 1])\n",
    "\n",
    "# Visualize the training data\n",
    "ax.scatter(X_obs, y_obs,\n",
    "              zorder=9999,  # place these on top\n",
    "              s=16,\n",
    "              color='tab:blue',\n",
    "              linewidth=0.75,\n",
    "              edgecolor='k'\n",
    "              )\n",
    "ax.plot(X, f(X))\n",
    "\n"
   ],
   "metadata": {
    "collapsed": false,
    "pycharm": {
     "name": "#%%\n"
    }
   }
  },
  {
   "cell_type": "markdown",
   "source": [
    "Initialize a Monotonic GP model"
   ],
   "metadata": {
    "collapsed": false,
    "pycharm": {
     "name": "#%% md\n"
    }
   }
  },
  {
   "cell_type": "code",
   "execution_count": 4,
   "outputs": [
    {
     "name": "stderr",
     "output_type": "stream",
     "text": [
      "2022-02-16 12:11:45.083574: W tensorflow/python/util/util.cc:368] Sets are not currently considered sequences, but this may change in the future, so consider avoiding using them.\n"
     ]
    }
   ],
   "source": [
    "ind_points = np.linspace(xmin, xmax, 10)[:, None]  # inducing point locations\n",
    "kernel = gpflow.kernels.Matern52(lengthscales=0.2, variance=0.01)\n",
    "likelihood = gpflow.likelihoods.Gaussian(variance=0.01)\n",
    "model = PathwiseMonotonicSVGP(kernel=kernel,\n",
    "                              likelihood=likelihood,\n",
    "                              inducing_variable=ind_points)\n",
    "\n",
    "gpflow.utilities.set_trainable(model.inducing_variable, False)"
   ],
   "metadata": {
    "collapsed": false,
    "pycharm": {
     "name": "#%%\n"
    }
   }
  },
  {
   "cell_type": "markdown",
   "source": [
    "Training"
   ],
   "metadata": {
    "collapsed": false,
    "pycharm": {
     "name": "#%% md\n"
    }
   }
  },
  {
   "cell_type": "code",
   "execution_count": 5,
   "outputs": [
    {
     "name": "stderr",
     "output_type": "stream",
     "text": [
      "100%|██████████| 100/100 [03:58<00:00,  2.38s/it, EMA(loss): -1.903e+02]\n"
     ]
    }
   ],
   "source": [
    "# Sample-based training\n",
    "num_steps = 100\n",
    "step_sizes = [1e-1, 1e-2, 1e-3]\n",
    "boundaries = [k * num_steps // len(step_sizes) for k in range(1, len(step_sizes))]\n",
    "schedule = tf.keras.optimizers.schedules.PiecewiseConstantDecay(boundaries, step_sizes)\n",
    "optimizer = tf.keras.optimizers.Adam(schedule)\n",
    "\n",
    "training_loss = model.training_loss_closure(data=(X_obs, y_obs), compile=True)\n",
    "trainables = model.trainable_variables\n",
    "step_iterator = tqdm(range(num_steps))\n",
    "\n",
    "times = []\n",
    "for step in step_iterator:\n",
    "    start_time = time.time()\n",
    "    with tf.GradientTape(watch_accessed_variables=False) as tape:\n",
    "        tape.watch(trainables)\n",
    "        loss = training_loss()\n",
    "\n",
    "    grads = tape.gradient(loss, trainables)\n",
    "    grads_and_vars = tuple(zip(grads, trainables))\n",
    "    optimizer.apply_gradients(grads_and_vars)\n",
    "    end_time = time.time()\n",
    "    loss_ema = loss if (step == 0) else loss_ema + 0.25 * (loss - loss_ema)\n",
    "    step_iterator.set_postfix_str(f'EMA(loss): {loss_ema:.3e}')"
   ],
   "metadata": {
    "collapsed": false,
    "pycharm": {
     "name": "#%%\n"
    }
   }
  },
  {
   "cell_type": "markdown",
   "source": [],
   "metadata": {
    "collapsed": false,
    "pycharm": {
     "name": "#%% md\n"
    }
   }
  },
  {
   "cell_type": "code",
   "execution_count": 6,
   "outputs": [],
   "source": [
    "Xnew = tf.linspace(tf.cast(0.0, floatx()), tf.cast(1.0, floatx()), 100)\n",
    "with model.temporary_paths(num_samples=1000, num_bases=1024) as temp_paths:\n",
    "    fnew = tf.squeeze(model.predict_f_samples(Xnew[:, None]))"
   ],
   "metadata": {
    "collapsed": false,
    "pycharm": {
     "name": "#%%\n"
    }
   }
  },
  {
   "cell_type": "code",
   "execution_count": 7,
   "outputs": [],
   "source": [
    "mean = np.mean(fnew, axis=0)\n",
    "std = np.std(fnew, axis=0)"
   ],
   "metadata": {
    "collapsed": false,
    "pycharm": {
     "name": "#%%\n"
    }
   }
  },
  {
   "cell_type": "markdown",
   "source": [
    "Plot posterior"
   ],
   "metadata": {
    "collapsed": false,
    "pycharm": {
     "name": "#%% md\n"
    }
   }
  },
  {
   "cell_type": "code",
   "execution_count": 8,
   "outputs": [
    {
     "data": {
      "text/plain": "[<matplotlib.lines.Line2D at 0x7ff45a63dcd0>,\n <matplotlib.lines.Line2D at 0x7ff45a63dd90>,\n <matplotlib.lines.Line2D at 0x7ff45a63dee0>,\n <matplotlib.lines.Line2D at 0x7ff45a668040>,\n <matplotlib.lines.Line2D at 0x7ff45a668160>,\n <matplotlib.lines.Line2D at 0x7ff45a668280>,\n <matplotlib.lines.Line2D at 0x7ff45a2cd3a0>,\n <matplotlib.lines.Line2D at 0x7ff45a6684c0>,\n <matplotlib.lines.Line2D at 0x7ff45a6683a0>,\n <matplotlib.lines.Line2D at 0x7ff45a668670>]"
     },
     "execution_count": 8,
     "metadata": {},
     "output_type": "execute_result"
    },
    {
     "data": {
      "text/plain": "<Figure size 504x432 with 1 Axes>",
      "image/png": "[encoded data removed]"
     },
     "metadata": {
      "needs_background": "light"
     },
     "output_type": "display_data"
    }
   ],
   "source": [
    "fig, ax = plt.subplots(1, 1, figsize=(7, 6))\n",
    "# Visualize the training data\n",
    "ax.scatter(X_obs, y_obs,\n",
    "              zorder=9999,  # place these on top\n",
    "              s=16,\n",
    "              color='tab:blue',\n",
    "              linewidth=0.75,\n",
    "              edgecolor='k'\n",
    "              )\n",
    "\n",
    "ax.fill_between(Xnew,\n",
    "                mean - 2*std,\n",
    "                mean + 2*std,\n",
    "                color='tab:blue',\n",
    "                alpha=0.15)\n",
    "\n",
    "ax.plot(Xnew, mean, '--', color='r')\n",
    "\n",
    "ax.plot(Xnew, f(Xnew))\n",
    "\n",
    "ax.plot(Xnew, tf.transpose(fnew[:10], [1, 0]), alpha=0.5, linewidth=0.5, color='tab:blue')  # plot a few samples"
   ],
   "metadata": {
    "collapsed": false,
    "pycharm": {
     "name": "#%%\n"
    }
   }
  },
  {
   "cell_type": "code",
   "execution_count": 8,
   "outputs": [],
   "source": [],
   "metadata": {
    "collapsed": false,
    "pycharm": {
     "name": "#%%\n"
    }
   }
  }
 ],
 "metadata": {
  "kernelspec": {
   "display_name": "Python 3 (ipykernel)",
   "language": "python",
   "name": "python3"
  },
  "language_info": {
   "codemirror_mode": {
    "name": "ipython",
    "version": 3
   },
   "file_extension": ".py",
   "mimetype": "text/x-python",
   "name": "python",
   "nbconvert_exporter": "python",
   "pygments_lexer": "ipython3",
   "version": "3.9.7"
  }
 },
 "nbformat": 4,
 "nbformat_minor": 1
}